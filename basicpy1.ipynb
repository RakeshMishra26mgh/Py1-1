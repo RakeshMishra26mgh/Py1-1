{
  "nbformat": 4,
  "nbformat_minor": 0,
  "metadata": {
    "colab": {
      "provenance": [],
      "authorship_tag": "ABX9TyOoosrsqI24/JiMUR18oNCl",
      "include_colab_link": true
    },
    "kernelspec": {
      "name": "python3",
      "display_name": "Python 3"
    },
    "language_info": {
      "name": "python"
    }
  },
  "cells": [
    {
      "cell_type": "markdown",
      "metadata": {
        "id": "view-in-github",
        "colab_type": "text"
      },
      "source": [
        "<a href=\"https://colab.research.google.com/github/RakeshMishra26mgh/Py1-1/blob/main/basicpy1.ipynb\" target=\"_parent\"><img src=\"https://colab.research.google.com/assets/colab-badge.svg\" alt=\"Open In Colab\"/></a>"
      ]
    },
    {
      "cell_type": "markdown",
      "source": [
        "Answer 1 :-"
      ],
      "metadata": {
        "id": "cTI0pRmC8zxR"
      }
    },
    {
      "cell_type": "code",
      "source": [
        "print(\"Hello Python\")"
      ],
      "metadata": {
        "id": "s17GZWZk3NHu"
      },
      "execution_count": null,
      "outputs": []
    },
    {
      "cell_type": "markdown",
      "source": [
        "Answer 2:-"
      ],
      "metadata": {
        "id": "Ta-kNOuL-wob"
      }
    },
    {
      "cell_type": "code",
      "source": [
        "a = int(input(\"enter the first number:\"))\n",
        "b = int(input(\"enter the second number :\"))\n",
        "addition_result = a+b\n",
        "division_result =a/b\n",
        "print(f\"upon addition of the 2 numbers we get answer as :{addition_result}\")\n",
        "print(f\"upon division of the 2 numbers we get answer as :{division_result} \")"
      ],
      "metadata": {
        "id": "BR-18iz5-2M3"
      },
      "execution_count": null,
      "outputs": []
    },
    {
      "cell_type": "markdown",
      "source": [
        "Answer 3 :-"
      ],
      "metadata": {
        "id": "mhPj1D5h9MUa"
      }
    },
    {
      "cell_type": "code",
      "source": [
        "base=float(input(\"enter the base length of the triangle:\"))\n",
        "height=float(input(\"enter  the height of the triangle:\"))\n",
        "area=(base*height)/2\n",
        "print(f\"area of the triangle is {area}\")"
      ],
      "metadata": {
        "id": "y_nU2gQy3h8F"
      },
      "execution_count": null,
      "outputs": []
    },
    {
      "cell_type": "markdown",
      "source": [
        "Answer 4  :-"
      ],
      "metadata": {
        "id": "SxFZlP-V6Ke7"
      }
    },
    {
      "cell_type": "code",
      "source": [
        "a=input(\"enter the value of a before swapping :\")\n",
        "b=input(\"enter the value of b before swapping:\")\n",
        "temp=1\n",
        "temp=a\n",
        "a=b\n",
        "b=temp\n",
        "\n",
        "print(f\"after swapping a is {a}\")\n",
        "print(f\"after swapping b is {b}\")"
      ],
      "metadata": {
        "id": "cZSVwbZm6Nuk"
      },
      "execution_count": null,
      "outputs": []
    },
    {
      "cell_type": "markdown",
      "source": [
        "Answer 5 :-"
      ],
      "metadata": {
        "id": "dMkW4Ic39hzt"
      }
    },
    {
      "cell_type": "code",
      "source": [
        "import random\n",
        "random_number =random.randint(2,133)\n",
        "print(random_number)"
      ],
      "metadata": {
        "id": "5qI-D3yT9tOY"
      },
      "execution_count": null,
      "outputs": []
    }
  ]
}